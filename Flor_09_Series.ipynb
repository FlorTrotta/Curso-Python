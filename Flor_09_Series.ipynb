{
  "cells": [
    {
      "cell_type": "markdown",
      "metadata": {
        "id": "view-in-github",
        "colab_type": "text"
      },
      "source": [
        "<a href=\"https://colab.research.google.com/github/FlorTrotta/Curso-Python/blob/main/Flor_09_Series.ipynb\" target=\"_parent\"><img src=\"https://colab.research.google.com/assets/colab-badge.svg\" alt=\"Open In Colab\"/></a>"
      ]
    },
    {
      "cell_type": "code",
      "execution_count": 27,
      "metadata": {
        "id": "maK0D7gRnzEb"
      },
      "outputs": [],
      "source": [
        "import pandas as pd"
      ]
    },
    {
      "cell_type": "markdown",
      "metadata": {
        "id": "eVgc05genzEP"
      },
      "source": [
        "# Ejercicio 1\n",
        "\n",
        "Obtener la versión de la librería pandas."
      ]
    },
    {
      "cell_type": "code",
      "source": [
        "pd.__version__"
      ],
      "metadata": {
        "id": "U0YIN7Hln3f_",
        "colab": {
          "base_uri": "https://localhost:8080/",
          "height": 35
        },
        "outputId": "72e9cf8c-5542-40c3-e70b-21ad548a20b5"
      },
      "execution_count": 28,
      "outputs": [
        {
          "output_type": "execute_result",
          "data": {
            "text/plain": [
              "'1.5.3'"
            ],
            "application/vnd.google.colaboratory.intrinsic+json": {
              "type": "string"
            }
          },
          "metadata": {},
          "execution_count": 28
        }
      ]
    },
    {
      "cell_type": "markdown",
      "metadata": {
        "id": "E-sKD9dYnzEf"
      },
      "source": [
        "# Ejercicio 2\n",
        "\n",
        "\n",
        "\n",
        "*   Convertir la lista dada en una estructura pandas Series.\n",
        "*   Comprueba su tamaño.\n",
        "* Utiliza el comando describe() y mira para qué sirve."
      ]
    },
    {
      "cell_type": "code",
      "source": [
        "datos = [2, 3, 5, 7, 11]\n",
        "serie = pd.Series(datos)\n",
        "## pd.dateFame(datos) para que nos traiga una tabla\n",
        "serie"
      ],
      "metadata": {
        "id": "HWIzBJP0n4kP",
        "colab": {
          "base_uri": "https://localhost:8080/"
        },
        "outputId": "a352f358-73e5-4d3a-e6cb-3f59913eae35"
      },
      "execution_count": 29,
      "outputs": [
        {
          "output_type": "execute_result",
          "data": {
            "text/plain": [
              "0     2\n",
              "1     3\n",
              "2     5\n",
              "3     7\n",
              "4    11\n",
              "dtype: int64"
            ]
          },
          "metadata": {},
          "execution_count": 29
        }
      ]
    },
    {
      "cell_type": "markdown",
      "source": [
        "Comprueba su tamaño de una serie"
      ],
      "metadata": {
        "id": "Tn0fCg9g62Cm"
      }
    },
    {
      "cell_type": "code",
      "source": [
        "serie = pd.Series(datos)\n",
        "print(serie.size)"
      ],
      "metadata": {
        "colab": {
          "base_uri": "https://localhost:8080/"
        },
        "id": "O3S2a9Hu63Iu",
        "outputId": "7bc144c2-fba5-41ac-e53f-de8bd2cd6217"
      },
      "execution_count": 30,
      "outputs": [
        {
          "output_type": "stream",
          "name": "stdout",
          "text": [
            "5\n"
          ]
        }
      ]
    },
    {
      "cell_type": "markdown",
      "source": [
        "Utiliza el comando describe() y mira para qué sirve."
      ],
      "metadata": {
        "id": "ydyiYl1U7d0S"
      }
    },
    {
      "cell_type": "code",
      "source": [
        "serie = pd.Series(datos)\n",
        "descripcion = serie.describe()\n",
        "print(descripcion)"
      ],
      "metadata": {
        "colab": {
          "base_uri": "https://localhost:8080/"
        },
        "id": "hFRVtS6r7gRZ",
        "outputId": "d5f55eee-4916-4244-8f07-0a06627b9813"
      },
      "execution_count": 31,
      "outputs": [
        {
          "output_type": "stream",
          "name": "stdout",
          "text": [
            "count     5.000000\n",
            "mean      5.600000\n",
            "std       3.577709\n",
            "min       2.000000\n",
            "25%       3.000000\n",
            "50%       5.000000\n",
            "75%       7.000000\n",
            "max      11.000000\n",
            "dtype: float64\n"
          ]
        }
      ]
    },
    {
      "cell_type": "markdown",
      "metadata": {
        "id": "krqmjekUnzEo"
      },
      "source": [
        "# Ejercicio 3\n",
        "\n",
        "* Ahora vuelve a convertir la pandas series de antes a una lista Python.\n",
        "* Comprueba su tipo con la función type()\n",
        "\n"
      ]
    },
    {
      "cell_type": "code",
      "source": [
        "lista = serie.tolist()\n",
        "type(lista)"
      ],
      "metadata": {
        "colab": {
          "base_uri": "https://localhost:8080/"
        },
        "id": "SniKQHZ9OiX3",
        "outputId": "359f9e3c-66cb-468b-fe3d-9ee22f57bbb3"
      },
      "execution_count": 32,
      "outputs": [
        {
          "output_type": "execute_result",
          "data": {
            "text/plain": [
              "list"
            ]
          },
          "metadata": {},
          "execution_count": 32
        }
      ]
    },
    {
      "cell_type": "code",
      "source": [
        "nueva_lista = list(serie)  #CEAR VARIABLE\n",
        "print(nueva_lista)  #USAR VARIABLE"
      ],
      "metadata": {
        "colab": {
          "base_uri": "https://localhost:8080/"
        },
        "id": "okdI_BaepVGm",
        "outputId": "369536ae-2006-44e4-c098-2ae68094e6e7"
      },
      "execution_count": 61,
      "outputs": [
        {
          "output_type": "stream",
          "name": "stdout",
          "text": [
            "[10, 20, 30, 40]\n"
          ]
        }
      ]
    },
    {
      "cell_type": "code",
      "source": [
        "datos = pd.DataFrame(descripcion)\n",
        "print(datos)"
      ],
      "metadata": {
        "id": "UfLFUKoro6KX",
        "colab": {
          "base_uri": "https://localhost:8080/"
        },
        "outputId": "0a8ee16b-355e-463c-f1c9-b5f1bbd2ce4c"
      },
      "execution_count": 10,
      "outputs": [
        {
          "output_type": "stream",
          "name": "stdout",
          "text": [
            "               0\n",
            "count   5.000000\n",
            "mean    5.600000\n",
            "std     3.577709\n",
            "min     2.000000\n",
            "25%     3.000000\n",
            "50%     5.000000\n",
            "75%     7.000000\n",
            "max    11.000000\n"
          ]
        }
      ]
    },
    {
      "cell_type": "markdown",
      "metadata": {
        "id": "8utv2EKSnzEt"
      },
      "source": [
        "# Ejercicio 4\n",
        "\n",
        "Aplicar las operaciones aritméticas básicas sobre los objetos Series dados.\n",
        "\n",
        "Prueba a:\n",
        "* Sumar\n",
        "* Restar\n",
        "* Multiplicar\n",
        "* Dividir"
      ]
    },
    {
      "cell_type": "code",
      "source": [
        "serie1 = pd.Series([1, 2, 3, 4, 5])\n",
        "serie2 = pd.Series([9, 8, 7, 6, 5])"
      ],
      "metadata": {
        "id": "JNmHYi1PpVjm"
      },
      "execution_count": 33,
      "outputs": []
    },
    {
      "cell_type": "code",
      "source": [
        "serie1 + serie2"
      ],
      "metadata": {
        "id": "o-X9CbZWppZ2",
        "colab": {
          "base_uri": "https://localhost:8080/"
        },
        "outputId": "07a108b9-e942-4d07-df84-7ea00fae4b8c"
      },
      "execution_count": 34,
      "outputs": [
        {
          "output_type": "execute_result",
          "data": {
            "text/plain": [
              "0    10\n",
              "1    10\n",
              "2    10\n",
              "3    10\n",
              "4    10\n",
              "dtype: int64"
            ]
          },
          "metadata": {},
          "execution_count": 34
        }
      ]
    },
    {
      "cell_type": "code",
      "source": [
        "serie1 - serie2"
      ],
      "metadata": {
        "colab": {
          "base_uri": "https://localhost:8080/"
        },
        "id": "IzFpySFCRez9",
        "outputId": "896f4307-14d8-466e-d82e-ce3234ddf832"
      },
      "execution_count": 35,
      "outputs": [
        {
          "output_type": "execute_result",
          "data": {
            "text/plain": [
              "0   -8\n",
              "1   -6\n",
              "2   -4\n",
              "3   -2\n",
              "4    0\n",
              "dtype: int64"
            ]
          },
          "metadata": {},
          "execution_count": 35
        }
      ]
    },
    {
      "cell_type": "code",
      "source": [
        "serie1 * serie2"
      ],
      "metadata": {
        "colab": {
          "base_uri": "https://localhost:8080/"
        },
        "id": "xb_L4ZrPRklT",
        "outputId": "4e87dd9e-d488-4c85-8487-913075605a6b"
      },
      "execution_count": 36,
      "outputs": [
        {
          "output_type": "execute_result",
          "data": {
            "text/plain": [
              "0     9\n",
              "1    16\n",
              "2    21\n",
              "3    24\n",
              "4    25\n",
              "dtype: int64"
            ]
          },
          "metadata": {},
          "execution_count": 36
        }
      ]
    },
    {
      "cell_type": "code",
      "source": [
        "serie1 / serie2"
      ],
      "metadata": {
        "colab": {
          "base_uri": "https://localhost:8080/"
        },
        "id": "o9TnHQ2NRpGD",
        "outputId": "178eacb8-250c-4127-9e7b-685c70b9c551"
      },
      "execution_count": 37,
      "outputs": [
        {
          "output_type": "execute_result",
          "data": {
            "text/plain": [
              "0    0.111111\n",
              "1    0.250000\n",
              "2    0.428571\n",
              "3    0.666667\n",
              "4    1.000000\n",
              "dtype: float64"
            ]
          },
          "metadata": {},
          "execution_count": 37
        }
      ]
    },
    {
      "cell_type": "markdown",
      "metadata": {
        "id": "40W856j3nzEw"
      },
      "source": [
        "# Ejercicio 5\n",
        "\n",
        "Usar operadores relacionales para comparar los objetos Series dados.\n",
        "\n"
      ]
    },
    {
      "cell_type": "markdown",
      "source": [
        "https://ellibrodepython.com/operadores-relacionales"
      ],
      "metadata": {
        "id": "AG2zztdNSw35"
      }
    },
    {
      "cell_type": "code",
      "execution_count": 38,
      "metadata": {
        "id": "ZfnLx8YQnzEx"
      },
      "outputs": [],
      "source": [
        "serie1 = pd.Series([1, 2, 3, 5, 7])\n",
        "serie2 = pd.Series([13, 17, 11, 5, 3])"
      ]
    },
    {
      "cell_type": "code",
      "source": [
        "x=serie1; y= serie2\n",
        "print(\"Operadores Relacionales\")\n",
        "print(\"x==y =\", x==y) # False\n",
        "print(\"x!=y =\", x!=y) # True\n",
        "print(\"x>y  =\", x>y)  # False\n",
        "print(\"x<y  =\", x<y)  # True\n",
        "print(\"x>=y =\", x>=y) # False\n",
        "print(\"x<=y =\", x<=y) # True"
      ],
      "metadata": {
        "id": "AeP1fbBqpvry",
        "colab": {
          "base_uri": "https://localhost:8080/"
        },
        "outputId": "e24684aa-9388-4b06-896f-880d8ac8b431"
      },
      "execution_count": 39,
      "outputs": [
        {
          "output_type": "stream",
          "name": "stdout",
          "text": [
            "Operadores Relacionales\n",
            "x==y = 0    False\n",
            "1    False\n",
            "2    False\n",
            "3     True\n",
            "4    False\n",
            "dtype: bool\n",
            "x!=y = 0     True\n",
            "1     True\n",
            "2     True\n",
            "3    False\n",
            "4     True\n",
            "dtype: bool\n",
            "x>y  = 0    False\n",
            "1    False\n",
            "2    False\n",
            "3    False\n",
            "4     True\n",
            "dtype: bool\n",
            "x<y  = 0     True\n",
            "1     True\n",
            "2     True\n",
            "3    False\n",
            "4    False\n",
            "dtype: bool\n",
            "x>=y = 0    False\n",
            "1    False\n",
            "2    False\n",
            "3     True\n",
            "4     True\n",
            "dtype: bool\n",
            "x<=y = 0     True\n",
            "1     True\n",
            "2     True\n",
            "3     True\n",
            "4    False\n",
            "dtype: bool\n"
          ]
        }
      ]
    },
    {
      "cell_type": "markdown",
      "source": [
        "¿Qué ocurre? ¿Se comparan todos los elementos? ¿Se compara el objeto únicamente...?"
      ],
      "metadata": {
        "id": "uinEf0dbqhTg"
      }
    },
    {
      "cell_type": "markdown",
      "source": [
        "\n",
        "\n",
        "```\n",
        "Introduce aquí tu respuesta\n",
        "```\n",
        "\n"
      ],
      "metadata": {
        "id": "IyYj00koq0Iu"
      }
    },
    {
      "cell_type": "markdown",
      "metadata": {
        "id": "Mu9fMnItnzE0"
      },
      "source": [
        "# Ejercicio 6\n",
        "\n",
        "\n",
        "\n",
        "*   Convertir el diccionario Python en un objeto Series.\n",
        "*   Intenta imprimir un pantalla algún valor de la serie.\n",
        "\n",
        "PD: Fíjate como accedemos al valor.\n",
        "\n",
        "\n",
        "\n"
      ]
    },
    {
      "cell_type": "code",
      "source": [
        "datos = {'a': 10, 'b': 20, 'c': 30, 'd': 40}\n",
        "serie = pd.Series(datos)\n",
        "print(datos)\n",
        "serie['a']\n"
      ],
      "metadata": {
        "id": "QuUYkJE3rIwU",
        "colab": {
          "base_uri": "https://localhost:8080/"
        },
        "outputId": "3102f8b4-886d-472a-8cf5-91b1b8bd7409"
      },
      "execution_count": 65,
      "outputs": [
        {
          "output_type": "stream",
          "name": "stdout",
          "text": [
            "{'a': 10, 'b': 20, 'c': 30, 'd': 40}\n"
          ]
        },
        {
          "output_type": "execute_result",
          "data": {
            "text/plain": [
              "10"
            ]
          },
          "metadata": {},
          "execution_count": 65
        }
      ]
    },
    {
      "cell_type": "code",
      "source": [
        "datos = {'a': 10, 'b': 20, 'c': 30, 'd': 40}\n",
        "new_serie = pd.Series(datos)\n",
        "new_serie[\"c\"]"
      ],
      "metadata": {
        "colab": {
          "base_uri": "https://localhost:8080/"
        },
        "id": "oCRI1GoqrQFq",
        "outputId": "e8c1188c-67eb-4632-d8b4-c33165ecfc14"
      },
      "execution_count": 67,
      "outputs": [
        {
          "output_type": "execute_result",
          "data": {
            "text/plain": [
              "30"
            ]
          },
          "metadata": {},
          "execution_count": 67
        }
      ]
    },
    {
      "cell_type": "markdown",
      "metadata": {
        "id": "9emLAfs2nzE1"
      },
      "source": [
        "# Ejercicio 7\n",
        "\n",
        "Crea un array NumPy y conviertelo en un objeto Series.\n",
        "\n"
      ]
    },
    {
      "cell_type": "code",
      "execution_count": 68,
      "metadata": {
        "id": "HUgxTZ7gnzE2",
        "colab": {
          "base_uri": "https://localhost:8080/"
        },
        "outputId": "cebfd467-fc96-42a5-86be-b0a1baa53544"
      },
      "outputs": [
        {
          "output_type": "execute_result",
          "data": {
            "text/plain": [
              "array([1, 2, 3])"
            ]
          },
          "metadata": {},
          "execution_count": 68
        }
      ],
      "source": [
        "#Crea un array NumPy\n",
        "import numpy as np\n",
        "lista = [1, 2, 3,]\n",
        "vector=np.array(lista)\n",
        "vector\n"
      ]
    },
    {
      "cell_type": "markdown",
      "source": [
        "Es como una serie, pero de otra librería. en este caso es NumPy\n",
        "Se crea como la panda serie \"\"import numpy as np\"\""
      ],
      "metadata": {
        "id": "hky1MXmsr4Ka"
      }
    },
    {
      "cell_type": "code",
      "source": [
        "#Conviertelo en un objeto Series.\n",
        "vector_serie = pd.Series(vector)\n",
        "vector_serie"
      ],
      "metadata": {
        "id": "murDJSj5smcO",
        "colab": {
          "base_uri": "https://localhost:8080/"
        },
        "outputId": "cea65fc3-3a16-42b1-ea02-cec799d679a2"
      },
      "execution_count": 74,
      "outputs": [
        {
          "output_type": "execute_result",
          "data": {
            "text/plain": [
              "0    1\n",
              "1    2\n",
              "2    3\n",
              "dtype: int64"
            ]
          },
          "metadata": {},
          "execution_count": 74
        }
      ]
    },
    {
      "cell_type": "markdown",
      "metadata": {
        "id": "RqLH1mb5nzE4"
      },
      "source": [
        "# Ejercicio 8\n",
        "\n",
        "Cambiar el tipo de datos de un objeto Series.\n",
        "\n",
        "\n",
        "\n",
        "*   Cambiar la siguiente serie de Strings en númerica\n",
        "\n"
      ]
    },
    {
      "cell_type": "code",
      "source": [
        "datos = pd.Series(['100', '200', '', '300.15', '500.8'])\n",
        "serie_numerica = pd.to_numeric(datos, errors= \"coerce\")"
      ],
      "metadata": {
        "id": "wsIJSY4vv5XC"
      },
      "execution_count": 78,
      "outputs": []
    },
    {
      "cell_type": "code",
      "source": [
        "datos.astype(float, errors= \"ignore\")"
      ],
      "metadata": {
        "colab": {
          "base_uri": "https://localhost:8080/"
        },
        "id": "rqTH_dN3hCUw",
        "outputId": "cf67b7a6-a29f-4601-ebb3-973ede91bda7"
      },
      "execution_count": 79,
      "outputs": [
        {
          "output_type": "execute_result",
          "data": {
            "text/plain": [
              "0       100\n",
              "1       200\n",
              "2          \n",
              "3    300.15\n",
              "4     500.8\n",
              "dtype: object"
            ]
          },
          "metadata": {},
          "execution_count": 79
        }
      ]
    },
    {
      "cell_type": "markdown",
      "metadata": {
        "id": "y-hphByznzE6"
      },
      "source": [
        "# Ejercicio 9\n",
        "\n",
        "Obtener una columna de un objeto DataFrame como un objeto Series.\n",
        "\n"
      ]
    },
    {
      "cell_type": "code",
      "execution_count": 80,
      "metadata": {
        "id": "X_HrMF_BnzE7",
        "colab": {
          "base_uri": "https://localhost:8080/"
        },
        "outputId": "ed34534f-47ca-41af-f8d2-01817547ea9b"
      },
      "outputs": [
        {
          "output_type": "execute_result",
          "data": {
            "text/plain": [
              "0    9\n",
              "1    8\n",
              "2    7\n",
              "3    6\n",
              "4    5\n",
              "Name: B, dtype: int64"
            ]
          },
          "metadata": {},
          "execution_count": 80
        }
      ],
      "source": [
        "datos = {'A': [1, 2, 3, 4, 5], 'B': [9, 8, 7, 6, 5], 'C': [2, 3, 5, 7, 11]}\n",
        "\n",
        "df = pd.DataFrame(data=datos)\n",
        "\n",
        "df[\"B\"] # debo optar por una columna y ponerla etre corchetes\n"
      ]
    },
    {
      "cell_type": "code",
      "source": [
        "pd.Series(df[\"B\"])"
      ],
      "metadata": {
        "colab": {
          "base_uri": "https://localhost:8080/"
        },
        "id": "SuMgBGbhuxQO",
        "outputId": "c47cede8-8220-4bc6-bcea-41828e6a3471"
      },
      "execution_count": 82,
      "outputs": [
        {
          "output_type": "execute_result",
          "data": {
            "text/plain": [
              "0    9\n",
              "1    8\n",
              "2    7\n",
              "3    6\n",
              "4    5\n",
              "Name: B, dtype: int64"
            ]
          },
          "metadata": {},
          "execution_count": 82
        }
      ]
    },
    {
      "cell_type": "code",
      "source": [],
      "metadata": {
        "id": "5REjKk-p20Tn"
      },
      "execution_count": null,
      "outputs": []
    },
    {
      "cell_type": "markdown",
      "metadata": {
        "id": "Vj68yTbFnzE_"
      },
      "source": [
        "# Ejercicio 10 (Opcional)\n",
        "\n",
        "Convertir un objeto Series con múltiples listas en un único objeto Series.\n",
        "\n"
      ]
    },
    {
      "cell_type": "code",
      "execution_count": null,
      "metadata": {
        "id": "xmbacHLSnzE_",
        "outputId": "08381222-ca30-4941-a0cd-51b492776bf3"
      },
      "outputs": [
        {
          "data": {
            "text/plain": [
              "0    [Colombia, Perú, Argentina]\n",
              "1             [Bolivia, Uruguay]\n",
              "2                        [Chile]\n",
              "dtype: object"
            ]
          },
          "execution_count": 50,
          "metadata": {},
          "output_type": "execute_result"
        }
      ],
      "source": [
        "datos = [['Colombia', 'Perú', 'Argentina'], ['Bolivia', 'Uruguay'], ['Chile']]\n",
        "\n",
        "serie = pd.Series(datos)\n",
        "\n",
        "serie"
      ]
    },
    {
      "cell_type": "code",
      "source": [],
      "metadata": {
        "id": "hsSmIGvZ2-qg"
      },
      "execution_count": null,
      "outputs": []
    },
    {
      "cell_type": "markdown",
      "metadata": {
        "id": "vK92e8xpnzFB"
      },
      "source": [
        "# Ejercicio 11\n",
        "\n",
        "Ordenar los valores de un objeto Series con el método sort_values.\n",
        "\n"
      ]
    },
    {
      "cell_type": "code",
      "execution_count": 83,
      "metadata": {
        "id": "TVDm-BdjnzFC",
        "outputId": "5780933e-5d94-4663-d288-79a8c2048f2a",
        "colab": {
          "base_uri": "https://localhost:8080/"
        }
      },
      "outputs": [
        {
          "output_type": "execute_result",
          "data": {
            "text/plain": [
              "0       1.1\n",
              "1    Python\n",
              "2       0.5\n",
              "3    pandas\n",
              "4       2.8\n",
              "dtype: object"
            ]
          },
          "metadata": {},
          "execution_count": 83
        }
      ],
      "source": [
        "datos = ['1.1', 'Python', '0.5', 'pandas', '2.8']\n",
        "\n",
        "serie = pd.Series(datos)\n",
        "\n",
        "serie"
      ]
    },
    {
      "cell_type": "code",
      "source": [
        "serie.sort_values()"
      ],
      "metadata": {
        "colab": {
          "base_uri": "https://localhost:8080/"
        },
        "id": "cJRhtzyDvKM6",
        "outputId": "6a0a663f-4f6e-4990-ed41-53ed6d9fe8e4"
      },
      "execution_count": 84,
      "outputs": [
        {
          "output_type": "execute_result",
          "data": {
            "text/plain": [
              "2       0.5\n",
              "0       1.1\n",
              "4       2.8\n",
              "1    Python\n",
              "3    pandas\n",
              "dtype: object"
            ]
          },
          "metadata": {},
          "execution_count": 84
        }
      ]
    },
    {
      "cell_type": "code",
      "source": [],
      "metadata": {
        "id": "AJakP7yq3bQH"
      },
      "execution_count": null,
      "outputs": []
    },
    {
      "cell_type": "markdown",
      "metadata": {
        "id": "QiWBj_XEnzFE"
      },
      "source": [
        "# Ejercicio 12\n",
        "\n",
        "Agregar datos a un objeto Series existente.\n",
        "\n",
        "* Usa el método append()\n",
        "* IMPORTANTE: Si estamos trabajando con pandas series y aplicamos el método append(), espera recibir como argumento una pandas series."
      ]
    },
    {
      "cell_type": "code",
      "execution_count": 85,
      "metadata": {
        "id": "skbUWSiMnzFF",
        "outputId": "12620ad1-c80b-4b91-8793-72dbf57dc3aa",
        "colab": {
          "base_uri": "https://localhost:8080/"
        }
      },
      "outputs": [
        {
          "output_type": "execute_result",
          "data": {
            "text/plain": [
              "0    Python\n",
              "1        C#\n",
              "2       C++\n",
              "3      Java\n",
              "4       PHP\n",
              "dtype: object"
            ]
          },
          "metadata": {},
          "execution_count": 85
        }
      ],
      "source": [
        "datos = ['Python', 'C#', 'C++', 'Java', 'PHP']\n",
        "\n",
        "serie = pd.Series(datos)\n",
        "\n",
        "serie"
      ]
    },
    {
      "cell_type": "code",
      "source": [
        "lista = [\"Javascript\"]\n",
        "serie2 = pd.Series(lista)\n",
        "serie.append(serie2)"
      ],
      "metadata": {
        "id": "ujhC2f9P4OtZ",
        "colab": {
          "base_uri": "https://localhost:8080/"
        },
        "outputId": "a9f4bc14-0e65-4994-b30c-7fd9f4726d2a"
      },
      "execution_count": 87,
      "outputs": [
        {
          "output_type": "stream",
          "name": "stderr",
          "text": [
            "<ipython-input-87-42f9182ecc8b>:3: FutureWarning: The series.append method is deprecated and will be removed from pandas in a future version. Use pandas.concat instead.\n",
            "  serie.append(serie2)\n"
          ]
        },
        {
          "output_type": "execute_result",
          "data": {
            "text/plain": [
              "0        Python\n",
              "1            C#\n",
              "2           C++\n",
              "3          Java\n",
              "4           PHP\n",
              "0    Javascript\n",
              "dtype: object"
            ]
          },
          "metadata": {},
          "execution_count": 87
        }
      ]
    },
    {
      "cell_type": "markdown",
      "source": [
        "Esto dice que proximamente deberá dejar de existir la función append"
      ],
      "metadata": {
        "id": "83rIqsCLv171"
      }
    },
    {
      "cell_type": "markdown",
      "metadata": {
        "id": "IXS4BdYJnzFG"
      },
      "source": [
        "# Ejercicio 13\n",
        "\n",
        "Crear un objeto Series a partir de un filtro aplicado a otro objeto Series.\n",
        "\n",
        "Quédate con los datos que sean menores de 6."
      ]
    },
    {
      "cell_type": "code",
      "execution_count": null,
      "metadata": {
        "id": "ZC9oOInCnzFG",
        "outputId": "5a67b8d1-f30d-412c-ec9b-1c208283758d"
      },
      "outputs": [
        {
          "data": {
            "text/plain": [
              "0    0\n",
              "1    1\n",
              "2    2\n",
              "3    3\n",
              "4    4\n",
              "5    5\n",
              "6    6\n",
              "7    7\n",
              "8    8\n",
              "9    9\n",
              "dtype: int64"
            ]
          },
          "execution_count": 62,
          "metadata": {},
          "output_type": "execute_result"
        }
      ],
      "source": [
        "datos = [0, 1, 7, 3, 4, 5, 6, 7, 8, 9]\n",
        "\n",
        "serie = pd.Series(datos)\n",
        "\n",
        "serie"
      ]
    },
    {
      "cell_type": "code",
      "source": [],
      "metadata": {
        "id": "vyC4TQgK5or4"
      },
      "execution_count": null,
      "outputs": []
    },
    {
      "cell_type": "markdown",
      "metadata": {
        "id": "QOdb-mqRnzFH"
      },
      "source": [
        "# Ejercicio 14\n",
        "\n",
        "* Tenemos un objeto series con letras como Indices y números como valores\n",
        "* Cambiar el orden del índice de un objeto Series.\n",
        "* El orden tiene que ser: ['B', 'A', 'C', 'D', 'E']\n",
        "\n",
        "PISTA: Podrías buscar en internet how to change index order series python\n",
        "\n"
      ]
    },
    {
      "cell_type": "code",
      "execution_count": null,
      "metadata": {
        "id": "UcXjfbsznzFI",
        "outputId": "19d4a32c-5930-47bd-dc9d-cfbd0279bd2e"
      },
      "outputs": [
        {
          "data": {
            "text/plain": [
              "A    1\n",
              "B    2\n",
              "C    3\n",
              "D    4\n",
              "E    5\n",
              "dtype: int64"
            ]
          },
          "execution_count": 65,
          "metadata": {},
          "output_type": "execute_result"
        }
      ],
      "source": [
        "datos = [1, 2, 3, 4, 5]\n",
        "\n",
        "indices = ['A', 'B', 'C', 'D', 'E']\n",
        "\n",
        "serie = pd.Series(data=datos, index=indices)\n",
        "\n",
        "serie"
      ]
    },
    {
      "cell_type": "code",
      "source": [],
      "metadata": {
        "id": "kMG4TMbl6LdA"
      },
      "execution_count": null,
      "outputs": []
    },
    {
      "cell_type": "markdown",
      "metadata": {
        "id": "nSxpankfnzFJ"
      },
      "source": [
        "# Ejercicio 15\n",
        "\n",
        "Obtener la desviación estándar y el promedio de un conjunto de datos de una serie.\n",
        "\n"
      ]
    },
    {
      "cell_type": "code",
      "execution_count": null,
      "metadata": {
        "id": "qMIzjyE1nzFJ",
        "outputId": "d1e6f9b8-3b33-4796-f3be-6b2de2da950f"
      },
      "outputs": [
        {
          "data": {
            "text/plain": [
              "0     2\n",
              "1     3\n",
              "2     5\n",
              "3     7\n",
              "4    11\n",
              "5    13\n",
              "6    17\n",
              "7    19\n",
              "8    23\n",
              "9    29\n",
              "dtype: int64"
            ]
          },
          "execution_count": 68,
          "metadata": {},
          "output_type": "execute_result"
        }
      ],
      "source": [
        "datos = [2, 3, 5, 7, 11, 13, 17, 19, 23, 29]\n",
        "\n",
        "serie = pd.Series(datos)\n",
        "\n",
        "serie"
      ]
    },
    {
      "cell_type": "code",
      "source": [],
      "metadata": {
        "id": "2qxYp0Y4Dc61"
      },
      "execution_count": null,
      "outputs": []
    },
    {
      "cell_type": "markdown",
      "metadata": {
        "id": "ViV7yVFsnzFL"
      },
      "source": [
        "# Ejercicio 16\n",
        "\n",
        "Calcular los valores mínimo y máximo de un objeto Series.\n",
        "\n"
      ]
    },
    {
      "cell_type": "code",
      "execution_count": null,
      "metadata": {
        "id": "8K3lPRR_nzFL",
        "outputId": "6e54d040-d802-434a-f5d9-2c3c30337a6e"
      },
      "outputs": [
        {
          "data": {
            "text/plain": [
              "0    19\n",
              "1     2\n",
              "2    13\n",
              "3     0\n",
              "4    23\n",
              "5    29\n",
              "6    11\n",
              "7     7\n",
              "dtype: int64"
            ]
          },
          "execution_count": 72,
          "metadata": {},
          "output_type": "execute_result"
        }
      ],
      "source": [
        "datos = [19, 2, 13, 0, 23, 29, 11, 7]\n",
        "\n",
        "serie = pd.Series(datos)\n",
        "\n",
        "serie"
      ]
    },
    {
      "cell_type": "code",
      "source": [],
      "metadata": {
        "id": "F4z_CX8xEFKb"
      },
      "execution_count": null,
      "outputs": []
    },
    {
      "cell_type": "markdown",
      "metadata": {
        "id": "86x1lE1mnzFM"
      },
      "source": [
        "# Ejercicio 17 (Opcional)\n",
        "\n",
        "Obtener estádisticas básicas de un objeto Series con el método `describe`.\n",
        "\n"
      ]
    },
    {
      "cell_type": "code",
      "source": [],
      "metadata": {
        "id": "4-FYPzMVES97"
      },
      "execution_count": null,
      "outputs": []
    },
    {
      "cell_type": "markdown",
      "metadata": {
        "id": "wmch2ixmnzFO"
      },
      "source": [
        "## Ejercicio 18\n",
        "\n",
        "Obtener los elementos impares de un objeto Series numérico.\n",
        "\n"
      ]
    },
    {
      "cell_type": "code",
      "execution_count": null,
      "metadata": {
        "id": "mPQedUAunzFP",
        "outputId": "3e16a10c-f28c-448d-913f-1161722e7a7d"
      },
      "outputs": [
        {
          "data": {
            "text/plain": [
              "[0, 1, 2, 3, 4, 5, 6, 7, 8, 9]"
            ]
          },
          "execution_count": 80,
          "metadata": {},
          "output_type": "execute_result"
        }
      ],
      "source": [
        "datos = [19, 2, 13, 0, 23, 29, 11, 7]\n",
        "\n",
        "serie = pd.Series(datos)\n",
        "\n",
        "serie"
      ]
    },
    {
      "cell_type": "code",
      "source": [],
      "metadata": {
        "id": "HWKLpdFfFZ2J"
      },
      "execution_count": null,
      "outputs": []
    },
    {
      "cell_type": "markdown",
      "metadata": {
        "id": "ipTFhcALnzFQ"
      },
      "source": [
        "# Ejercicio 19 (Opcional)\n",
        "\n",
        "Extraer los datos de un objeto Series como un objeto NumPy.\n",
        "\n"
      ]
    },
    {
      "cell_type": "code",
      "source": [],
      "metadata": {
        "id": "6_3Nvd22HDwz"
      },
      "execution_count": null,
      "outputs": []
    },
    {
      "cell_type": "markdown",
      "metadata": {
        "id": "l6hnL8xlnzFU"
      },
      "source": [
        "# Ejercicio 20\n",
        "\n",
        "Comprobar si una serie contiene valores NaN. Ya existe una función que lo comprueba.\n",
        "\n"
      ]
    },
    {
      "cell_type": "code",
      "execution_count": null,
      "metadata": {
        "id": "_XRfmsGonzFV"
      },
      "outputs": [],
      "source": [
        "datos = ['20', '30', '', '50', 100]\n",
        "\n",
        "serie = pd.Series(datos)\n",
        "serie = pd.to_numeric(serie)\n",
        "\n",
        "serie"
      ]
    },
    {
      "cell_type": "code",
      "source": [],
      "metadata": {
        "id": "a9qwzdxvLtcy"
      },
      "execution_count": null,
      "outputs": []
    },
    {
      "cell_type": "markdown",
      "metadata": {
        "id": "qlpoTR4DnzFY"
      },
      "source": [
        "# Ejercicio 21 (Opcional)\n",
        "\n",
        "Operaciones aritméticas con métodos de la clase Series: `add`, `subtract`, `multiply`, y `divide`.\n",
        "\n"
      ]
    },
    {
      "cell_type": "code",
      "execution_count": null,
      "metadata": {
        "id": "_EE4fBVUnzFZ",
        "outputId": "c9e4ac30-4d04-445a-9db1-9fd522c027fc"
      },
      "outputs": [
        {
          "data": {
            "text/plain": [
              "0     1\n",
              "1     2\n",
              "2     3\n",
              "3     4\n",
              "4     5\n",
              "5     6\n",
              "6     7\n",
              "7     8\n",
              "8     9\n",
              "9    10\n",
              "dtype: int64"
            ]
          },
          "execution_count": 99,
          "metadata": {},
          "output_type": "execute_result"
        }
      ],
      "source": [
        "serie1 = pd.Series(list(range(1, 11)))\n",
        "\n",
        "serie1"
      ]
    },
    {
      "cell_type": "code",
      "execution_count": null,
      "metadata": {
        "id": "bOnodcASnzFZ",
        "outputId": "70a2c3d0-9273-4164-bc89-8b093e890889"
      },
      "outputs": [
        {
          "data": {
            "text/plain": [
              "0    10\n",
              "1     9\n",
              "2     8\n",
              "3     7\n",
              "4     6\n",
              "5     5\n",
              "6     4\n",
              "7     3\n",
              "8     2\n",
              "9     1\n",
              "dtype: int64"
            ]
          },
          "execution_count": 100,
          "metadata": {},
          "output_type": "execute_result"
        }
      ],
      "source": [
        "serie2 = pd.Series(list(range(10, 0, -1)))\n",
        "\n",
        "serie2"
      ]
    },
    {
      "cell_type": "code",
      "source": [],
      "metadata": {
        "id": "xMLPxRhFN53b"
      },
      "execution_count": null,
      "outputs": []
    },
    {
      "cell_type": "markdown",
      "metadata": {
        "id": "MCZDXXNynzFb"
      },
      "source": [
        "# Ejercicio 22\n",
        "\n",
        "Eliminar los valores NaN de una serie con el método dropna.\n",
        "\n"
      ]
    },
    {
      "cell_type": "code",
      "execution_count": null,
      "metadata": {
        "id": "5S6OVgDunzFb",
        "outputId": "db7e1e19-5601-4f9f-eae2-456b256cd4a4"
      },
      "outputs": [
        {
          "data": {
            "text/plain": [
              "0       2.3\n",
              "1    Python\n",
              "2        90\n",
              "3       100\n",
              "4       NaN\n",
              "5       0.5\n",
              "6        .9\n",
              "dtype: object"
            ]
          },
          "execution_count": 106,
          "metadata": {},
          "output_type": "execute_result"
        }
      ],
      "source": [
        "datos = ['2.3', '90', '100', np.nan, '0.5', '.9']\n",
        "\n",
        "serie = pd.Series(datos)\n",
        "\n",
        "serie"
      ]
    },
    {
      "cell_type": "code",
      "source": [],
      "metadata": {
        "id": "HzeThDH9OW5O"
      },
      "execution_count": null,
      "outputs": []
    },
    {
      "cell_type": "markdown",
      "metadata": {
        "id": "w9Cn3Z9enzFl"
      },
      "source": [
        "# Ejercicio 23\n",
        "\n",
        "Reemplazar los valores NaN (null) de una serie con un valor arbitrario.\n",
        "\n"
      ]
    },
    {
      "cell_type": "code",
      "execution_count": null,
      "metadata": {
        "id": "o_yHg59VnzFm",
        "outputId": "62e64ee1-ba16-42df-873e-c73e8da84f02",
        "colab": {
          "base_uri": "https://localhost:8080/"
        }
      },
      "outputs": [
        {
          "output_type": "execute_result",
          "data": {
            "text/plain": [
              "0         1\n",
              "1         3\n",
              "2         7\n",
              "3        11\n",
              "4    Python\n",
              "5      -0.5\n",
              "6       NaN\n",
              "dtype: object"
            ]
          },
          "metadata": {},
          "execution_count": 5
        }
      ],
      "source": [
        "datos = [1, 3, np.nan, 11, 'Python', '-0.5', np.nan]\n",
        "\n",
        "serie = pd.Series(datos)\n",
        "\n",
        "serie"
      ]
    }
  ],
  "metadata": {
    "kernelspec": {
      "display_name": "Python 3",
      "language": "python",
      "name": "python3"
    },
    "language_info": {
      "codemirror_mode": {
        "name": "ipython",
        "version": 3
      },
      "file_extension": ".py",
      "mimetype": "text/x-python",
      "name": "python",
      "nbconvert_exporter": "python",
      "pygments_lexer": "ipython3",
      "version": "3.7.3"
    },
    "colab": {
      "provenance": [],
      "include_colab_link": true
    }
  },
  "nbformat": 4,
  "nbformat_minor": 0
}
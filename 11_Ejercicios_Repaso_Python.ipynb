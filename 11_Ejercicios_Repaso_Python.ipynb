{
  "nbformat": 4,
  "nbformat_minor": 0,
  "metadata": {
    "colab": {
      "provenance": [],
      "include_colab_link": true
    },
    "kernelspec": {
      "name": "python3",
      "display_name": "Python 3"
    },
    "language_info": {
      "name": "python"
    }
  },
  "cells": [
    {
      "cell_type": "markdown",
      "metadata": {
        "id": "view-in-github",
        "colab_type": "text"
      },
      "source": [
        "<a href=\"https://colab.research.google.com/github/FlorTrotta/Curso-Python/blob/main/11_Ejercicios_Repaso_Python.ipynb\" target=\"_parent\"><img src=\"https://colab.research.google.com/assets/colab-badge.svg\" alt=\"Open In Colab\"/></a>"
      ]
    },
    {
      "cell_type": "markdown",
      "source": [
        "# Ejercicios Python"
      ],
      "metadata": {
        "id": "NQeVzr-Ynwyv"
      }
    },
    {
      "cell_type": "markdown",
      "source": [
        "## Ejercicio 1"
      ],
      "metadata": {
        "id": "w01ELBSZn07F"
      }
    },
    {
      "cell_type": "markdown",
      "source": [
        "Contar cuántos valores hay en una lista de enteros. Contar solo hasta el número 0."
      ],
      "metadata": {
        "id": "U7-2M7gEn371"
      }
    },
    {
      "cell_type": "code",
      "execution_count": 32,
      "metadata": {
        "id": "5RrjJK_annn6",
        "colab": {
          "base_uri": "https://localhost:8080/"
        },
        "outputId": "ecda9ed9-5173-4a8c-a183-ece3dd0bc9a5"
      },
      "outputs": [
        {
          "output_type": "stream",
          "name": "stdout",
          "text": [
            "5\n"
          ]
        }
      ],
      "source": [
        "nums = [6,8,5,2,0,6,5]\n",
        "contador = 0\n",
        "#Respuesta:\n",
        "#Debe dar 5\n",
        "for variable1 in nums:\n",
        "  contador = contador + 1\n",
        "  if variable1 == 0:\n",
        "    break\n",
        "print(contador)"
      ]
    },
    {
      "cell_type": "code",
      "source": [],
      "metadata": {
        "id": "nHNAtmE5BfP_"
      },
      "execution_count": null,
      "outputs": []
    },
    {
      "cell_type": "markdown",
      "source": [
        "## Ejercicio 2"
      ],
      "metadata": {
        "id": "Y-8ydW3wqsjJ"
      }
    },
    {
      "cell_type": "markdown",
      "source": [
        "Sumar los valores que hay en una lista de enteros. Sumar solo hasta el número 0."
      ],
      "metadata": {
        "id": "PwrM0MZ5q-a-"
      }
    },
    {
      "cell_type": "code",
      "source": [
        "nums = [6,8,5,2,0,6,5]\n",
        "suma = 0\n",
        "#Respuesta:\n",
        "#Debe dar 21\n"
      ],
      "metadata": {
        "colab": {
          "base_uri": "https://localhost:8080/"
        },
        "id": "CSMOFqOHq9tH",
        "outputId": "7bd815d9-930b-4525-d887-cad7322f8159"
      },
      "execution_count": null,
      "outputs": [
        {
          "output_type": "stream",
          "name": "stdout",
          "text": [
            "La suma da: 21\n"
          ]
        }
      ]
    },
    {
      "cell_type": "code",
      "source": [
        "nums = [6,8,5,2,0,6,5] #debemos sumar todos números dentro de una misma variable\n",
        "suma = 0\n",
        "#Respuesta:\n",
        "#Debe dar 21\n",
        "for variable_integradora in nums: #no puede existir con anterioridad, no puede inciar con número, debe ser en singular, no puede tener empacios\n",
        "  suma = suma + variable_integradora   #el bucle for incia desde la posiciòn cero, en este caso está representada por el 6\n",
        "  if variable_integradora == 0:\n",
        "    break\n",
        "print(suma)"
      ],
      "metadata": {
        "colab": {
          "base_uri": "https://localhost:8080/"
        },
        "id": "usPpXT0q5ZO1",
        "outputId": "69cda3c7-6bfa-46a4-8539-9319bbdc4332"
      },
      "execution_count": 24,
      "outputs": [
        {
          "output_type": "stream",
          "name": "stdout",
          "text": [
            "21\n"
          ]
        }
      ]
    },
    {
      "cell_type": "markdown",
      "source": [
        "## Ejercicio 3"
      ],
      "metadata": {
        "id": "G9vesbhJrmiJ"
      }
    },
    {
      "cell_type": "markdown",
      "source": [
        "Calcular el valor medio de los valores que hay en una lista de enteros. Calcular solo hasta el número 0."
      ],
      "metadata": {
        "id": "aeDrH-RKrmiU"
      }
    },
    {
      "cell_type": "code",
      "source": [
        "nums = [6,8,5,2,0,6,5]\n",
        "suma = 0\n",
        "contador = 0\n",
        "#Respuesta:\n",
        "#Debe dar 4.2\n"
      ],
      "metadata": {
        "colab": {
          "base_uri": "https://localhost:8080/"
        },
        "id": "wNXaojvbr60X",
        "outputId": "fa5940f3-fa1f-46c7-a8c2-6577b24e1826"
      },
      "execution_count": null,
      "outputs": [
        {
          "output_type": "stream",
          "name": "stdout",
          "text": [
            "La media da: 4.2\n"
          ]
        }
      ]
    },
    {
      "cell_type": "code",
      "source": [
        "nums = [6,8,5,2,0,6,5]\n",
        "suma = 0\n",
        "contador = 0\n",
        "for variable2 in nums:\n",
        "  suma = suma + variable2\n",
        "  contador = contador + 1\n",
        "  if variable2 == 0:\n",
        "      break\n",
        "resultado = suma/contador\n",
        "print(resultado)"
      ],
      "metadata": {
        "colab": {
          "base_uri": "https://localhost:8080/"
        },
        "id": "QWnYLEUr9-k9",
        "outputId": "c9c89bd2-2b4d-46d9-a540-bdb43d3e39a2"
      },
      "execution_count": 46,
      "outputs": [
        {
          "output_type": "stream",
          "name": "stdout",
          "text": [
            "4.2\n"
          ]
        }
      ]
    },
    {
      "cell_type": "code",
      "source": [
        "nums = [6,8,5,2,0,6,5]\n",
        "suma = 0\n",
        "contador = 0\n",
        "for variable2 in nums:\n",
        "  print(variable2)"
      ],
      "metadata": {
        "colab": {
          "base_uri": "https://localhost:8080/"
        },
        "id": "2fROOoUZU71G",
        "outputId": "e114b5ce-c9d4-4796-ede9-a55ed8b845f5"
      },
      "execution_count": 45,
      "outputs": [
        {
          "output_type": "stream",
          "name": "stdout",
          "text": [
            "6\n",
            "8\n",
            "5\n",
            "2\n",
            "0\n",
            "6\n",
            "5\n"
          ]
        }
      ]
    },
    {
      "cell_type": "markdown",
      "source": [
        "## Ejercicio 4"
      ],
      "metadata": {
        "id": "Ih5L_91Ntx_n"
      }
    },
    {
      "cell_type": "markdown",
      "source": [
        "Elimina las \"a\" del siguiente texto:"
      ],
      "metadata": {
        "id": "yUtastJVtx_o"
      }
    },
    {
      "cell_type": "code",
      "source": [
        "texto = \"Las variables son almacenes de datos que persisten en memoria. Cuando accedemos a una variable en realidad estamos accediendo a un puntero en memoria que almacena el valor que nos interesa. \"\n",
        "#Respuesta\n",
        "\n",
        "for sin_a in texto:\n",
        "   if sin_a != \"a\":\n",
        "      continue\n",
        "print(sin_a)"
      ],
      "metadata": {
        "id": "ju3tY5J6tHiW",
        "colab": {
          "base_uri": "https://localhost:8080/"
        },
        "outputId": "6dc8a88c-2b13-46d2-cb45-4bd85bb72e26"
      },
      "execution_count": 57,
      "outputs": [
        {
          "output_type": "stream",
          "name": "stdout",
          "text": [
            " \n"
          ]
        }
      ]
    },
    {
      "cell_type": "code",
      "source": [
        "texto = \"Las variables son almacenes de datos que persisten en memoria. Cuando accedemos a una variable en realidad estamos accediendo a un puntero en memoria que almacena el valor que nos interesa. \"\n",
        "texto_sin_a = \"\"\n",
        "for sin_a in texto:\n",
        "   if sin_a != \"a\":\n",
        "      texto_sin_a = texto_sin_a + sin_a\n",
        "print(texto_sin_a)"
      ],
      "metadata": {
        "colab": {
          "base_uri": "https://localhost:8080/"
        },
        "id": "dXqWn14zYCVS",
        "outputId": "f55952e5-9202-4a17-a23b-0d4735b8f1b5"
      },
      "execution_count": 55,
      "outputs": [
        {
          "output_type": "stream",
          "name": "stdout",
          "text": [
            "Ls vribles son lmcenes de dtos que persisten en memori. Cundo ccedemos  un vrible en relidd estmos ccediendo  un puntero en memori que lmcen el vlor que nos interes. \n"
          ]
        }
      ]
    },
    {
      "cell_type": "code",
      "source": [
        "texto = \"Las variables son almacenes de datos que persisten en memoria. Cuando accedemos a una variable en realidad estamos accediendo a un puntero en memoria que almacena el valor que nos interesa. \"\n",
        "res = texto.replace(\"a\",\"\")\n",
        "print(res)"
      ],
      "metadata": {
        "colab": {
          "base_uri": "https://localhost:8080/"
        },
        "id": "Idy6Ogm7YlS5",
        "outputId": "6d73baae-455a-4cd7-c408-f2c068ef61a9"
      },
      "execution_count": 48,
      "outputs": [
        {
          "output_type": "stream",
          "name": "stdout",
          "text": [
            "Ls vribles son lmcenes de dtos que persisten en memori. Cundo ccedemos  un vrible en relidd estmos ccediendo  un puntero en memori que lmcen el vlor que nos interes. \n"
          ]
        }
      ]
    },
    {
      "cell_type": "markdown",
      "source": [
        "## Ejercicio 5 (Opcional)"
      ],
      "metadata": {
        "id": "qh409wYK3mOm"
      }
    },
    {
      "cell_type": "markdown",
      "source": [
        "Crear una lista a partir de una secuencia de valores de entrada terminada en *.\n",
        "Una vez creada, modificarla elevando al cuadrado todos los pares y al cubo todos los impares, y mostrarla."
      ],
      "metadata": {
        "id": "QvSFihRU3mOo"
      }
    },
    {
      "cell_type": "code",
      "source": [
        "lista = [3,56,6,7,\"*\",2,78]\n",
        "#Respuesta:\n",
        "#Debe dar [27, 3136, 36, 343]\n"
      ],
      "metadata": {
        "colab": {
          "base_uri": "https://localhost:8080/"
        },
        "id": "BdMEMdyT3wEo",
        "outputId": "272d690d-ed43-4fdf-8e7c-06884de66018"
      },
      "execution_count": null,
      "outputs": [
        {
          "output_type": "execute_result",
          "data": {
            "text/plain": [
              "[27, 3136, 36, 343]"
            ]
          },
          "metadata": {},
          "execution_count": 10
        }
      ]
    },
    {
      "cell_type": "code",
      "source": [
        "lista = [3,56,6,7,\"*\",2,78]\n",
        "nueva_lista = []\n",
        "for valor in lista:\n",
        "  if valor == \"*\":\n",
        "    break\n",
        "  if valor % 2 == 0:\n",
        "    valor = valor **2\n",
        "  if valor % 2 != 0:\n",
        "    valor = valor **3\n",
        "  nueva_lista.append(valor)\n",
        "print(nueva_lista)"
      ],
      "metadata": {
        "colab": {
          "base_uri": "https://localhost:8080/"
        },
        "id": "qJ6VJZjPbaLs",
        "outputId": "0244d521-d521-4472-b83f-43576588649f"
      },
      "execution_count": 68,
      "outputs": [
        {
          "output_type": "stream",
          "name": "stdout",
          "text": [
            "[27, 3136, 36, 343]\n"
          ]
        }
      ]
    },
    {
      "cell_type": "code",
      "source": [
        "variable = 80  # se crea esta variable para comprobar si un nùmero es par, la foram de hacerlo es comprobando que el resto de la divisiòn es 0\n",
        "variable % 2 == 0\n"
      ],
      "metadata": {
        "colab": {
          "base_uri": "https://localhost:8080/"
        },
        "id": "9QgRBg9gdqxS",
        "outputId": "13c2f71c-417b-431c-d2d3-a28fb13a7285"
      },
      "execution_count": 65,
      "outputs": [
        {
          "output_type": "execute_result",
          "data": {
            "text/plain": [
              "True"
            ]
          },
          "metadata": {},
          "execution_count": 65
        }
      ]
    },
    {
      "cell_type": "code",
      "source": [
        "variable = 80  # se crea esta variable para comprobar si un nùmero es impar o no, la foram de hacerlo es comprobando que el resto de la divisiòn es 0\n",
        "variable % 2 != 0\n"
      ],
      "metadata": {
        "colab": {
          "base_uri": "https://localhost:8080/"
        },
        "id": "rU9-nQa6e60G",
        "outputId": "9b7c2a40-b890-4d92-e4e9-dd3ab80edb0a"
      },
      "execution_count": 66,
      "outputs": [
        {
          "output_type": "execute_result",
          "data": {
            "text/plain": [
              "False"
            ]
          },
          "metadata": {},
          "execution_count": 66
        }
      ]
    }
  ]
}